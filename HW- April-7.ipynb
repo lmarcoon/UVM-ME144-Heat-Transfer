{
 "cells": [
  {
   "cell_type": "markdown",
   "metadata": {},
   "source": [
    "# Problem 1\n",
    "\n",
    "This follows PB 1 of HT-ablation-bl\n",
    "\n",
    " The upstream water flow velocity is $1 \\mathrm{m/s}$ and its upstream temperature is $99^\\circ\\mathrm{C}$. Plot the evolution of the initial ablation velocity in $\\text{mm/s}$ and/or give its values for $x=0.01,0.1,0.2,0.5,1.0\\mathrm{m}$. Discuss which fluid is more likley to achieve the formation of the deepest erosion-driven roughness."
   ]
  },
  {
   "cell_type": "markdown",
   "metadata": {},
   "source": [
    "# Problem 2\n",
    "<img src='figures_Tube_Banks/probun_07_34.jpg' alt=\"my awesome sketch\" width=75% >\n",
    "An air duct heater consists of an aligned array of electrical heating elements in which the longitudinal and transverse pitches are $S_L=S_T= 24\\text{ mm}$. There are 3 rows of elements in the ﬂow direction ($N_L=3$) and 4 elements per row ($N_T=4$). Atmospheric air with an upstream velocity of $12\\text{ m/s}$ and a temperature of $25^\\circ\\text{C}$ moves in cross ﬂow over the elements, which have a diameter of $12\\text{ mm}$, a length of $250\\text{ mm}$, and are maintained at a surface temperature of $350^\\circ\\text{C}$.\n",
    "<ol>\n",
    "<li>\n",
    "Determine the total heat transfer to the air and the temperature of the air leaving the duct heater.\n",
    "</li>\n",
    "<li>\n",
    "Determine the pressure drop across the element bank and the fan power requirement.\n",
    "</li>\n",
    "<li>\n",
    "Compare the average convection coefﬁcient obtained in your analysis with the value for an isolated (single) element. Explain the difference between the results.\n",
    "</li>\n",
    "<li>\n",
    "What effect would increasing the longitudinal and transverse pitches to 30 mm have on the exit temperature of the air, the total heat rate, and the pressure drop?\n",
    "</li>\n",
    "</ol>"
   ]
  },
  {
   "cell_type": "code",
   "execution_count": null,
   "metadata": {},
   "outputs": [],
   "source": []
  },
  {
   "cell_type": "markdown",
   "metadata": {},
   "source": [
    "# Problem 3\n",
    "An aluminum transmission line with a diameter of\n",
    "20 mm has an electrical resistance of $R'_\\text{elec}=2.636\\times10^{-4}\\Omega/\\text{m}$\n",
    "and carries a current of 700 A. The line is\n",
    "subjected to frequent and severe cross winds, increasing the probability of contact between adjacent lines,\n",
    "thereby causing sparks and creating a potential ﬁre hazard for nearby vegetation. The remedy is to insulate the\n",
    "line, but with the adverse effect of increasing the conductor operating temperature.\n",
    "<ol>\n",
    "<li> Calculate the conductor temperature when the air temperature is $20^\\circ\\text{C}$ and the cross flow wind velocity is $10\\text{m/s}$</li>\n",
    "<li> Calculate the conductor temperature for the same\n",
    "conditions, but with a $2\\text{mm}$-thick insulation having\n",
    "a thermal conductivity of $0.15\\text{W/(m.K)}$.</li>\n",
    "<li> Calculate and plot the temperatures of the bare and\n",
    "insulated conductors for wind velocities in the\n",
    "range from $2$ to $20\\text{m/s}$. Comment on features of\n",
    "the curves and the effect of the wind velocity on the\n",
    "conductor temperatures.</li>\n",
    "</ol>"
   ]
  },
  {
   "cell_type": "code",
   "execution_count": 4,
   "metadata": {},
   "outputs": [
    {
     "data": {
      "text/latex": [
       "$\\displaystyle 0.02605$"
      ],
      "text/plain": [
       "0.02605"
      ]
     },
     "execution_count": 4,
     "metadata": {},
     "output_type": "execute_result"
    }
   ],
   "source": [
    "from Libraries import thermodynamics as thermo\n",
    "from Libraries import HT_external_convection as extconv\n",
    "T_infty = 20 #C\n",
    "U_infty = 10 #m/s\n",
    "D_w = 0.02#m\n",
    "D_ins = 0.022\n",
    "k_ins = 0.15 #W/m.K\n",
    "#initial guess\n",
    "T_s = 30 #C\n",
    "\n",
    "T_f = (T_infty + T_s)/2\n",
    "airflow = thermo.Fluid('air',T_f,\"C\")\n",
    "airflow.k"
   ]
  },
  {
   "cell_type": "markdown",
   "metadata": {},
   "source": [
    "# Problem 4\n",
    "\n",
    "<img src='Fig-HW-April-7/PB4-1.png' alt=\"my awesome sketch\" width=50% ><img src='Fig-HW-April-7/PB4-2.png' alt=\"my awesome sketch\" width=50% >\n",
    "The top surface of a heated compartment consists of very smooth (A) and highly roughened (B) portions, and the surface is placed in an atmospheric airstream. \n",
    "In the interest of minimizing total convection heat transfer from the surface, which orientation, (1) or (2),\n",
    "is preferred? If $T_s=100^\\circ\\text{C}$,  $T_\\infty= 20^\\circ\\text{C}$, and $u_\\infty=20\\text{ m/s}$, what is the convection heat transfer from the entire surface for this orientation?\n",
    "\n",
    "Calculate the value of the average heat transfer coefﬁcient when the entire plate is rotated $90^\\circ$ so that half of the leading edge consists of a very smooth portion (A) and the other half consists of a highly roughened portion (B)."
   ]
  },
  {
   "cell_type": "code",
   "execution_count": null,
   "metadata": {},
   "outputs": [],
   "source": []
  }
 ],
 "metadata": {
  "kernelspec": {
   "display_name": "Python 3",
   "language": "python",
   "name": "python3"
  },
  "language_info": {
   "codemirror_mode": {
    "name": "ipython",
    "version": 3
   },
   "file_extension": ".py",
   "mimetype": "text/x-python",
   "name": "python",
   "nbconvert_exporter": "python",
   "pygments_lexer": "ipython3",
   "version": "3.8.5"
  }
 },
 "nbformat": 4,
 "nbformat_minor": 4
}
