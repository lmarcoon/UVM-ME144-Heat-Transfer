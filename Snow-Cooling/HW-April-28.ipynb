{
 "cells": [
  {
   "cell_type": "markdown",
   "metadata": {},
   "source": [
    "# Due April 28\n",
    "\n",
    "* One submission per group\n",
    "* Every team member solves 2 problems (see BB for pb statements)\n",
    "* As a group, extract a window of summer weather data from the location of your project. Using a flat square plate of your choosing (dimensions and thermal conductivity), use heat transfer from wind, and solar irradiation on the top surface to determine the heat rate necessary to maintain the bottom part of the plate at $0^\\circ \\mathrm{C}$. For convection heat transfer, you will assume that are the edges are aligned with the cardinal directions, and somehow the wind only blows N, S, W or E. For solar irradiation you will neglect the angle of the sun rays with earth (maximum irradiation). You will also neglect the heat transfer caused by rain."
   ]
  },
  {
   "cell_type": "code",
   "execution_count": null,
   "metadata": {},
   "outputs": [],
   "source": []
  }
 ],
 "metadata": {
  "kernelspec": {
   "display_name": "Python 3",
   "language": "python",
   "name": "python3"
  },
  "language_info": {
   "codemirror_mode": {
    "name": "ipython",
    "version": 3
   },
   "file_extension": ".py",
   "mimetype": "text/x-python",
   "name": "python",
   "nbconvert_exporter": "python",
   "pygments_lexer": "ipython3",
   "version": "3.8.5"
  }
 },
 "nbformat": 4,
 "nbformat_minor": 4
}
